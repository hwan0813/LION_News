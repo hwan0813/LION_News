{
 "cells": [
  {
   "cell_type": "code",
   "execution_count": null,
   "metadata": {},
   "outputs": [],
   "source": [
    "#구글 실시간 뉴스 타이틀 가져오기\n",
    "import requests\n",
    "from bs4 import BeautifulSoup\n",
    "import re\n",
    "\n",
    "#온점을 우리만의 기호로 만들어서 2초간 쉬게 하고 컨캣하기\n",
    "html = requests.get('https://www.google.co.kr/search?q=%EB%89%B4%EC%8A%A4&hl=ko&tbm=nws&source=lnt&tbs=qdr:h&sa=X&ved=0ahUKEwjf-ZDA24vbAhWKWbwKHSchCZsQpwUIHQ&biw=1594&bih=866&dpr=1.8').text\n",
    "soup = BeautifulSoup(html, 'html.parser')\n",
    "index = [\"첫 번째 뉴스\",\"두 번째 뉴스\",\"세 번째 뉴스\",\"네 번째 뉴스\",\"다섯 번째 뉴스\",\"여섯 번째 뉴스\",\"일곱 번째 뉴스\",\"여덟 번째 뉴스\",\"아홉 번째 뉴스\",\"마지막 뉴스\"]\n",
    "a = 0\n",
    "for list in soup.select('h3'):\n",
    "    print(list.text)\n",
    "    print(\"---------\")\n",
    "    after_list1 = re.sub(\"[?|<|>|①|:|'\"\"'|\"''\"]\", \" \", list.text).replace(\"”\",\"\").replace(\"“\",\"\")\n",
    "    after_list2 = re.sub(\"[?|<|>|·|!|'\"'|\"'\"]\", \" \", after_list1).replace(\"[\",\" \").replace(\"]\",\" \")\n",
    "    print(after_list1)\n",
    "    print(\"---------\")\n",
    "    print(after_list2)\n",
    "    f = open(\"/Users/joon/Dropbox/news_title.txt\", 'a') # /Users/joon/Dropbox/news_title.txt, 'w'\n",
    "    f.write(\" \"+index[a]+\"  \"+after_list2+\"  \")\n",
    "    f.close()\n",
    "    a = a+1\n",
    "\n"
   ]
  }
 ],
 "metadata": {
  "kernelspec": {
   "display_name": "Python 3",
   "language": "python",
   "name": "python3"
  },
  "language_info": {
   "codemirror_mode": {
    "name": "ipython",
    "version": 3
   },
   "file_extension": ".py",
   "mimetype": "text/x-python",
   "name": "python",
   "nbconvert_exporter": "python",
   "pygments_lexer": "ipython3",
   "version": "3.6.1"
  }
 },
 "nbformat": 4,
 "nbformat_minor": 2
}
