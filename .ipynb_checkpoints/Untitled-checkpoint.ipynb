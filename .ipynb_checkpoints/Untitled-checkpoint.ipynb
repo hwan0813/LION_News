{
 "cells": [
  {
   "cell_type": "code",
   "execution_count": 1,
   "metadata": {
    "scrolled": false
   },
   "outputs": [
    {
     "name": "stdout",
     "output_type": "stream",
     "text": [
      "https://www.dl.dropboxusercontent.com/s/5q88xlw3a8tpxmq/2018-05-18_01-52-20.manual.wav?dl=0\n",
      "-------\n",
      "https://www.dl.dropboxusercontent.com/s/w78mgtcyos2sr2c/2018-05-18_01-52-44.manual.wav?dl=0\n",
      "-------\n",
      "https://www.dl.dropboxusercontent.com/s/9fhe5izktxsrwyz/2018-05-18_01-53-06.manual.wav?dl=0\n",
      "-------\n"
     ]
    }
   ],
   "source": [
    "#드롭박스 공유 폴더에 올라가있는 오디오 파일 공유링크 가져오기\n",
    "\n",
    "import dropbox\n",
    "db = dropbox.Dropbox('C0w-C7kkDNAAAAAAAAAAE44R8t2689JstWqe2B8W6xMxUZXuSZnYCQ3tF3wqBizQ')\n",
    "\n",
    "response = db.files_list_folder('/test')\n",
    "dlList = [] #직접링크 담기 위한 리스트\n",
    "\n",
    "for file in response.entries:\n",
    "    #print(file.path_lower)\n",
    "    try:\n",
    "        shared_link_metadata = db.sharing_create_shared_link_with_settings(file.path_lower)\n",
    "        #print (shared_link_metadata.url)\n",
    "        str = shared_link_metadata.url\n",
    "        str = str.split('/')\n",
    "        link = 'https://www.dl.dropboxusercontent.com/s/'\n",
    "        dlLink = link + str[4]+'/'+str[5]  #직접링크 생성\n",
    "        dlList.append(dlLink)\n",
    "        print(dlLink)\n",
    "        print(\"-------\")\n",
    "        \n",
    "    except ApiError as err:\n",
    "        if err.error.is_shared_link_already_exists():\n",
    "            print(\"Link already exists.\")\n",
    "        if err.error.is_path() and err.error.get_path().is_not_found():\n",
    "            print(\"File not found.\")\n",
    "        elif err.error.is_settings_error():\n",
    "            print(err.error.get_settings_error())\n",
    "        else:\n",
    "            print(err)\n",
    "\n",
    "    \n",
    "print(dlList)"
   ]
  }
 ],
 "metadata": {
  "kernelspec": {
   "display_name": "Python 3",
   "language": "python",
   "name": "python3"
  },
  "language_info": {
   "codemirror_mode": {
    "name": "ipython",
    "version": 3
   },
   "file_extension": ".py",
   "mimetype": "text/x-python",
   "name": "python",
   "nbconvert_exporter": "python",
   "pygments_lexer": "ipython3",
   "version": "3.6.1"
  }
 },
 "nbformat": 4,
 "nbformat_minor": 2
}
