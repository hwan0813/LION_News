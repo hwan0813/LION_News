{
 "cells": [
  {
   "cell_type": "code",
   "execution_count": 33,
   "metadata": {
    "scrolled": true
   },
   "outputs": [
    {
     "name": "stdout",
     "output_type": "stream",
     "text": [
      "[' 우리 가족은 한겨레 주주모임 ', ' 포토  남궁민  오늘 내 윙크가 해퍼 ', ' 현장클릭  회사 경비원에 집안일…사모님의  깨알 지시 ', ' 뉴스pick   지우지 못할 고통 … K-9 자주포 사고  피해 병사의 절절한    ', ' 포토  용현  메인보컬의 러블리 타이 ', ' 포토 채시라 오랜만에 MBC와 함께해요~', ' 포토  정훈  무질서 속 질서 ', ' 연합뉴스 이 시각 헤드라인  - 16 00', ' 컬투쇼  이영자, 팬서비스 확실한 먹방 요정 종합 ', '음주로 멍드는  간 , 간에 좋은 음식은 ']\n",
      "['https://www.dl.dropboxusercontent.com/s/jeccdvzsg1z9e4w/2018-05-18_01-52-20.manual.wav?dl=0', 'https://www.dl.dropboxusercontent.com/s/65n7vgi5jc2xr2h/2018-05-18_01-52-44.manual.wav?dl=0', 'https://www.dl.dropboxusercontent.com/s/e00a2e4vu5pm6gd/2018-05-18_01-53-06.manual.wav?dl=0']\n"
     ]
    }
   ],
   "source": [
    "#1 구글 실시간 뉴스 타이틀 가져오기\n",
    "import requests\n",
    "from bs4 import BeautifulSoup\n",
    "import re\n",
    "\n",
    "\n",
    "html = requests.get('https://www.google.co.kr/search?q=%EB%89%B4%EC%8A%A4&hl=ko&tbm=nws&source=lnt&tbs=qdr:h&sa=X&ved=0ahUKEwjf-ZDA24vbAhWKWbwKHSchCZsQpwUIHQ&biw=1594&bih=866&dpr=1.8').text\n",
    "soup = BeautifulSoup(html, 'html.parser')\n",
    "index = [\"첫 번째 뉴스\",\"두 번째 뉴스\",\"세 번째 뉴스\",\"네 번째 뉴스\",\"다섯 번째 뉴스\",\"여섯 번째 뉴스\",\"일곱 번째 뉴스\",\"여덟 번째 뉴스\",\"아홉 번째 뉴스\",\"마지막 뉴스\"]\n",
    "a = 0\n",
    "titleList = [] # 뉴스타이틀 리스트\n",
    "for list in soup.select('h3'):\n",
    "    #print(list.text)\n",
    "    #print(\"---------\")\n",
    "    after_list1 = re.sub(\"[?|<|.|①|:|'\"\"'|\"''\"]\", \" \", list.text).replace(\"”\",\"\").replace(\"“\",\"\")\n",
    "    after_list2 = re.sub(\"[?|.|-|·|!|'\"'|\"'\"]\", \" \", after_list1).replace(\"[\",\" \").replace(\"]\",\" \")\n",
    "    #print(after_list1)   #온점을 우리만의 기호로 만들어서 2초간 쉬게 하고 컨캣하기\n",
    "    #print(\"---------\")\n",
    "    #print(after_list2)\n",
    "    titleList.append(after_list2)\n",
    "    f = open(\"/Users/joon/Dropbox/news_title.txt\", 'a') # /Users/joon/Dropbox/news_title.txt, 'w'\n",
    "    f.write(\" \"+index[a]+\"  \"+after_list2+\"  \")\n",
    "    f.close()\n",
    "    a = a+1\n",
    "\n",
    "#2 가져온 뉴스 텍스트를 음성으로 변화해 드랍박스 공유폴더(/test)에 저장\n",
    "    \n",
    "#3드롭박스 공유 폴더(/test)에 올라가있는 오디오 파일 공유링크 가져오기\n",
    "\n",
    "import dropbox\n",
    "db = dropbox.Dropbox('C0w-C7kkDNAAAAAAAAAAE44R8t2689JstWqe2B8W6xMxUZXuSZnYCQ3tF3wqBizQ')\n",
    "\n",
    "response = db.files_list_folder('/test')\n",
    "dlList = [] #직접링크 담기 위한 리스트\n",
    "\n",
    "for file in response.entries:\n",
    "    #print(file.path_lower)\n",
    "    try:\n",
    "        shared_link_metadata = db.sharing_create_shared_link_with_settings(file.path_lower)\n",
    "        #print (shared_link_metadata.url)\n",
    "        str = shared_link_metadata.url\n",
    "        str = str.split('/')\n",
    "        link = 'https://www.dl.dropboxusercontent.com/s/'\n",
    "        dlLink = link + str[4]+'/'+str[5]  #직접링크 생성\n",
    "        dlList.append(dlLink)\n",
    "        #print(dlLink)\n",
    "        #print(\"-------\")\n",
    "        \n",
    "    except ApiError as err:\n",
    "        if err.error.is_shared_link_already_exists():\n",
    "            print(\"Link already exists.\")\n",
    "        if err.error.is_path() and err.error.get_path().is_not_found():\n",
    "            print(\"File not found.\")\n",
    "        elif err.error.is_settings_error():\n",
    "            print(err.error.get_settings_error())\n",
    "        else:\n",
    "            print(err)\n",
    "\n",
    "    \n",
    "#4 파이어 베이스 실시간 데이터베이스에 입력\n",
    "\n",
    "from firebase import firebase \n",
    "firebase1 = firebase.FirebaseApplication(\"https://audiobookios-ecd92.firebaseio.com/\", None)\n",
    "#firebase2 = firebase.FirebaseApplication(\"https://memowebapp-afa6a.firebaseio.com/\", None)\n",
    "#result = firebase1.get('/data', None)\n",
    "#result = firebase2.get('/data', None)\n",
    "#print(result)\n",
    "indexing = 0\n",
    "print(titleList)\n",
    "print(dlList)\n",
    "for i in dlList:\n",
    "        firebase1.put('/data/'+repr(indexing),\"audiotitle\",titleList[indexing])\n",
    "        firebase1.put('/data/'+repr(indexing),\"audioaddress\",i)# 스트링화 str() 안됨.. --> repr()\n",
    "        indexing = indexing+1"
   ]
  }
 ],
 "metadata": {
  "kernelspec": {
   "display_name": "Python 3",
   "language": "python",
   "name": "python3"
  },
  "language_info": {
   "codemirror_mode": {
    "name": "ipython",
    "version": 3
   },
   "file_extension": ".py",
   "mimetype": "text/x-python",
   "name": "python",
   "nbconvert_exporter": "python",
   "pygments_lexer": "ipython3",
   "version": "3.6.1"
  }
 },
 "nbformat": 4,
 "nbformat_minor": 2
}
