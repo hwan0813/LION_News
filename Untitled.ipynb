{
 "cells": [
  {
   "cell_type": "code",
   "execution_count": 2,
   "metadata": {
    "scrolled": true
   },
   "outputs": [
    {
     "name": "stdout",
     "output_type": "stream",
     "text": [
      "https://www.dl.dropboxusercontent.com/s/0hjc1qvupwqixdt/2018-05-18_01-52-20.manual.wav?dl=0\n",
      "-------\n",
      "https://www.dl.dropboxusercontent.com/s/rne8tcxxs1qqbdv/2018-05-18_01-52-44.manual.wav?dl=0\n",
      "-------\n",
      "https://www.dl.dropboxusercontent.com/s/cqka74wrgx4iuk8/2018-05-18_01-53-06.manual.wav?dl=0\n",
      "-------\n",
      "['https://www.dl.dropboxusercontent.com/s/0hjc1qvupwqixdt/2018-05-18_01-52-20.manual.wav?dl=0', 'https://www.dl.dropboxusercontent.com/s/rne8tcxxs1qqbdv/2018-05-18_01-52-44.manual.wav?dl=0', 'https://www.dl.dropboxusercontent.com/s/cqka74wrgx4iuk8/2018-05-18_01-53-06.manual.wav?dl=0']\n"
     ]
    }
   ],
   "source": [
    "#드롭박스 공유 폴더에 올라가있는 오디오 파일 공유링크 가져오기\n",
    "\n",
    "import dropbox\n",
    "db = dropbox.Dropbox('C0w-C7kkDNAAAAAAAAAAE44R8t2689JstWqe2B8W6xMxUZXuSZnYCQ3tF3wqBizQ')\n",
    "\n",
    "response = db.files_list_folder('/test')\n",
    "dlList = [] #직접링크 담기 위한 리스트\n",
    "\n",
    "for file in response.entries:\n",
    "    #print(file.path_lower)\n",
    "    try:\n",
    "        shared_link_metadata = db.sharing_create_shared_link_with_settings(file.path_lower)\n",
    "        #print (shared_link_metadata.url)\n",
    "        str = shared_link_metadata.url\n",
    "        str = str.split('/')\n",
    "        link = 'https://www.dl.dropboxusercontent.com/s/'\n",
    "        dlLink = link + str[4]+'/'+str[5]  #직접링크 생성\n",
    "        dlList.append(dlLink)\n",
    "        print(dlLink)\n",
    "        print(\"-------\")\n",
    "        \n",
    "    except ApiError as err:\n",
    "        if err.error.is_shared_link_already_exists():\n",
    "            print(\"Link already exists.\")\n",
    "        if err.error.is_path() and err.error.get_path().is_not_found():\n",
    "            print(\"File not found.\")\n",
    "        elif err.error.is_settings_error():\n",
    "            print(err.error.get_settings_error())\n",
    "        else:\n",
    "            print(err)\n",
    "\n",
    "    \n",
    "print(dlList)"
   ]
  },
  {
   "cell_type": "code",
   "execution_count": 2,
   "metadata": {},
   "outputs": [
    {
     "ename": "ModuleNotFoundError",
     "evalue": "No module named 'urlread'",
     "output_type": "error",
     "traceback": [
      "\u001b[0;31m---------------------------------------------------------------------------\u001b[0m",
      "\u001b[0;31mModuleNotFoundError\u001b[0m                       Traceback (most recent call last)",
      "\u001b[0;32m<ipython-input-2-afbba2842db6>\u001b[0m in \u001b[0;36m<module>\u001b[0;34m()\u001b[0m\n\u001b[0;32m----> 1\u001b[0;31m \u001b[0;32mimport\u001b[0m \u001b[0murlread\u001b[0m\u001b[0;34m\u001b[0m\u001b[0m\n\u001b[0m\u001b[1;32m      2\u001b[0m \u001b[0;34m\u001b[0m\u001b[0m\n\u001b[1;32m      3\u001b[0m \u001b[0;34m\u001b[0m\u001b[0m\n\u001b[1;32m      4\u001b[0m \u001b[0;34m\u001b[0m\u001b[0m\n\u001b[1;32m      5\u001b[0m \u001b[0mfullURL\u001b[0m \u001b[0;34m=\u001b[0m \u001b[0;34m[\u001b[0m\u001b[0;34m'http://cdnvod.wowtv.co.kr:8080/EditVOD/E20180523/A201805230425_20180523173127839.mp4'\u001b[0m\u001b[0;34m]\u001b[0m\u001b[0;34m;\u001b[0m\u001b[0;34m\u001b[0m\u001b[0m\n",
      "\u001b[0;31mModuleNotFoundError\u001b[0m: No module named 'urlread'"
     ]
    }
   ],
   "source": [
    "import urlread\n",
    "\n",
    "\n",
    "\n",
    "fullURL = ['http://cdnvod.wowtv.co.kr:8080/EditVOD/E20180523/A201805230425_20180523173127839.mp4'];\n",
    "str = urlread(fullURL);"
   ]
  },
  {
   "cell_type": "code",
   "execution_count": null,
   "metadata": {
    "collapsed": true
   },
   "outputs": [],
   "source": [
    "import urllib.request\n",
    "\n",
    "urllib.request.urlretrieve(http://cdnvod.wowtv.co.kr:8080/EditVOD/E20180523/A201805230425_20180523173127839.mp4, 저장할 경로 및 파일명)"
   ]
  }
 ],
 "metadata": {
  "kernelspec": {
   "display_name": "Python 3",
   "language": "python",
   "name": "python3"
  },
  "language_info": {
   "codemirror_mode": {
    "name": "ipython",
    "version": 3
   },
   "file_extension": ".py",
   "mimetype": "text/x-python",
   "name": "python",
   "nbconvert_exporter": "python",
   "pygments_lexer": "ipython3",
   "version": "3.6.1"
  }
 },
 "nbformat": 4,
 "nbformat_minor": 2
}
